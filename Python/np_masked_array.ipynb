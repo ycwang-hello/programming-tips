{
 "cells": [
  {
   "cell_type": "markdown",
   "id": "83e2ec1d-156c-429b-8fa9-93977b93f5da",
   "metadata": {},
   "source": [
    "# NumPy masked array演示"
   ]
  },
  {
   "cell_type": "code",
   "execution_count": 1,
   "id": "60189544-a2c9-4fc2-8bfa-291804481ef6",
   "metadata": {},
   "outputs": [],
   "source": [
    "import numpy as np"
   ]
  },
  {
   "cell_type": "markdown",
   "id": "0ae89afe-5598-460e-804a-a25d05425778",
   "metadata": {},
   "source": [
    "我们建立一个masked array："
   ]
  },
  {
   "cell_type": "code",
   "execution_count": 2,
   "id": "e6a0e12e-0513-4987-848e-6145366426dc",
   "metadata": {},
   "outputs": [
    {
     "data": {
      "text/plain": [
       "masked_array(data=[1.0, --, 2.0, --],\n",
       "             mask=[False,  True, False,  True],\n",
       "       fill_value=1e+20)"
      ]
     },
     "execution_count": 2,
     "metadata": {},
     "output_type": "execute_result"
    }
   ],
   "source": [
    "a = np.ma.masked_array(\n",
    "    data=[1, -1, 2, np.nan],\n",
    "    mask=[False, True, False, True]\n",
    "    ); a"
   ]
  },
  {
   "cell_type": "markdown",
   "id": "fffd44a2-5fca-428c-9831-db0c87af0de3",
   "metadata": {},
   "source": [
    "其中`a`的`data`是："
   ]
  },
  {
   "cell_type": "code",
   "execution_count": 3,
   "id": "17006eef-4e20-4aca-8528-3ce466a1181b",
   "metadata": {},
   "outputs": [
    {
     "data": {
      "text/plain": [
       "array([ 1., -1.,  2., nan])"
      ]
     },
     "execution_count": 3,
     "metadata": {},
     "output_type": "execute_result"
    }
   ],
   "source": [
    "adata = a.data; adata"
   ]
  },
  {
   "cell_type": "markdown",
   "id": "3c73f2bb-73aa-435e-9e71-8ac4a1760edc",
   "metadata": {},
   "source": [
    "我们看看`adata`是否等于`a.data`，即`a.data`是否等于它自己："
   ]
  },
  {
   "cell_type": "code",
   "execution_count": 4,
   "id": "be095e31-3ca6-44b0-bb99-0cb2b86398ca",
   "metadata": {},
   "outputs": [
    {
     "data": {
      "text/plain": [
       "array([ True,  True,  True, False])"
      ]
     },
     "execution_count": 4,
     "metadata": {},
     "output_type": "execute_result"
    }
   ],
   "source": [
    "adata == a.data"
   ]
  },
  {
   "cell_type": "code",
   "execution_count": 5,
   "id": "9364128a-72f7-4dc7-8a37-e5ea7119babd",
   "metadata": {},
   "outputs": [
    {
     "data": {
      "text/plain": [
       "array([False, False, False,  True])"
      ]
     },
     "execution_count": 5,
     "metadata": {},
     "output_type": "execute_result"
    }
   ],
   "source": [
    "adata != a.data"
   ]
  },
  {
   "cell_type": "markdown",
   "id": "7ae79d3b-727e-430e-9493-93c79fdeb22b",
   "metadata": {},
   "source": [
    "`np.nan`不等于任何东西，包括`np.nan`自己："
   ]
  },
  {
   "cell_type": "code",
   "execution_count": 6,
   "id": "a02528ef-b2df-4116-aa19-b9fa18e63c07",
   "metadata": {},
   "outputs": [
    {
     "name": "stdout",
     "output_type": "stream",
     "text": [
      "True False True\n"
     ]
    }
   ],
   "source": [
    "print(np.nan is np.nan, np.nan == np.nan, np.nan != np.nan)"
   ]
  },
  {
   "cell_type": "markdown",
   "id": "d624f69a-cb68-460c-bc6c-8cd7e49f6466",
   "metadata": {},
   "source": [
    "除此特例外，前3个元素确实相等。\n",
    "\n",
    "下面我们看看`a`是否等于它自己的`data`，即上面定义的`adata`："
   ]
  },
  {
   "cell_type": "code",
   "execution_count": 7,
   "id": "b1564d12-2bfc-4486-a727-2071605f59a8",
   "metadata": {},
   "outputs": [
    {
     "data": {
      "text/plain": [
       "masked_array(data=[True, --, True, --],\n",
       "             mask=[False,  True, False,  True],\n",
       "       fill_value=True)"
      ]
     },
     "execution_count": 7,
     "metadata": {},
     "output_type": "execute_result"
    }
   ],
   "source": [
    "a == adata"
   ]
  },
  {
   "cell_type": "markdown",
   "id": "9511e88c-58c1-4a90-8fcd-a0ca7541536b",
   "metadata": {},
   "source": [
    "masked array `a` 和 array `adata` 进行二元运算`==`得到的是一个masked array，它的`data`是："
   ]
  },
  {
   "cell_type": "code",
   "execution_count": 8,
   "id": "cf0ac5ed-c078-4027-b73f-6a30773e841d",
   "metadata": {},
   "outputs": [
    {
     "data": {
      "text/plain": [
       "array([ True, False,  True, False])"
      ]
     },
     "execution_count": 8,
     "metadata": {},
     "output_type": "execute_result"
    }
   ],
   "source": [
    "(a == adata).data"
   ]
  },
  {
   "cell_type": "markdown",
   "id": "7515f2ab-f24f-4ac3-8918-0360426ff79d",
   "metadata": {},
   "source": [
    "然而，常用的很多函数在masked array上计算时会忽略masked value（这也是为什么我们会用masked array的原因之一），而不是使用masked array的data计算："
   ]
  },
  {
   "cell_type": "code",
   "execution_count": 9,
   "id": "567c07f3-edcd-4557-84cc-0417c782a186",
   "metadata": {},
   "outputs": [
    {
     "data": {
      "text/plain": [
       "(2, True, False)"
      ]
     },
     "execution_count": 9,
     "metadata": {},
     "output_type": "execute_result"
    }
   ],
   "source": [
    "np.sum(a == adata), np.all(a == adata), np.any(~(a==adata))"
   ]
  },
  {
   "cell_type": "markdown",
   "id": "225a4180-496b-434e-ab9e-f120317bf0e0",
   "metadata": {},
   "source": [
    "所以，即使`not np.all((a == adata).data)`，仍然有`np.all(a == adata)`。这可能是初看上去反直觉的事。"
   ]
  },
  {
   "cell_type": "code",
   "execution_count": 10,
   "id": "be163dae-0696-4dfd-a2d8-69b9dad124c6",
   "metadata": {},
   "outputs": [
    {
     "data": {
      "text/plain": [
       "(True, True)"
      ]
     },
     "execution_count": 10,
     "metadata": {},
     "output_type": "execute_result"
    }
   ],
   "source": [
    "not np.all((a == adata).data), np.all(a == adata)"
   ]
  }
 ],
 "metadata": {
  "kernelspec": {
   "display_name": "Python 3 (ipykernel)",
   "language": "python",
   "name": "python3"
  },
  "language_info": {
   "codemirror_mode": {
    "name": "ipython",
    "version": 3
   },
   "file_extension": ".py",
   "mimetype": "text/x-python",
   "name": "python",
   "nbconvert_exporter": "python",
   "pygments_lexer": "ipython3",
   "version": "3.10.11"
  }
 },
 "nbformat": 4,
 "nbformat_minor": 5
}
